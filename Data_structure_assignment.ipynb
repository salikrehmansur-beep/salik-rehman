{
  "nbformat": 4,
  "nbformat_minor": 0,
  "metadata": {
    "colab": {
      "provenance": []
    },
    "kernelspec": {
      "name": "python3",
      "display_name": "Python 3"
    },
    "language_info": {
      "name": "python"
    }
  },
  "cells": [
    {
      "cell_type": "code",
      "execution_count": 34,
      "metadata": {
        "id": "37gvSHPNcWoj"
      },
      "outputs": [],
      "source": [
        "# Assignment 2: Data Types and Structures"
      ]
    },
    {
      "cell_type": "markdown",
      "source": [
        "1.  What are data structures, and why are they important ?\n",
        "\n",
        ">>Data structures are organized ways to store, manage, and retrieve data efficiently in a computer.\n",
        "\n",
        ">>Importance of Data Structure :\n",
        "\n",
        ">>>Efficient Data Management :Help organize large amounts of data so it's easy to access and modify.\n",
        "\n",
        ">>>Faster Searching & Sorting: Certain data structures  allow faster operations.\n",
        "\n",
        ">>>Memory Optimization: Help reduce memory usage by using optimal storage formats.\n",
        "\n",
        ">>>Foundation for Algorithms: Most algorithms rely on data structures to work correctly and efficiently.\n",
        "\n",
        ">>>Real-world Problem Solving: Useful in tasks like file systems, databases, social networks, etc.\n",
        "\n",
        ">>>Helps in Decision Making: Choosing the right data structure can improve performance drastically.\n",
        "\n",
        ">>Examples: List,tuple,sets"
      ],
      "metadata": {
        "id": "I_M-xa5XfEUl"
      }
    },
    {
      "cell_type": "markdown",
      "source": [
        "2.  Explain the difference between mutable and immutable data types with examples\n",
        "\n",
        ">>Mutable:\n",
        ">>>\tObjects that can be changed after they are created.\n",
        "\n",
        ">>> No new memory location is created\n",
        "\n",
        ">>>Example :list, dict, set\n",
        "\n",
        "\n",
        "\n",
        "```\n",
        "# Example of Mutable\n",
        "my_list = [1, 2, 3]\n",
        "my_list[0] = 10\n",
        "print(my_list)\n",
        "```\n",
        ">> Immutable:\n",
        ">>>Objects that cannot be changed after they are created.\n",
        "\n",
        ">>>Creation of new  memory location at any changes\n",
        "\n",
        ">>>Examples: int, float, str, tuple\n",
        "\n",
        "\n",
        "\n",
        "```\n",
        "# Example of immutable\n",
        "t = (1, 2, 3)\n",
        "# t[0] = 10  #This will raise a TypeError\n",
        "```\n",
        "\n",
        "\n"
      ],
      "metadata": {
        "id": "wWAj5M02gOBQ"
      }
    },
    {
      "cell_type": "markdown",
      "source": [
        "3.  What are the main differences between lists and tuples in Python ?\n",
        "\n",
        ">Difference bwtween List and tuple\n",
        ">1. Mutability:**Lists** are mutable whereas **tuples** are immutable.\n",
        "\n",
        ">>This means you can change, add, or remove elements in a list, but you cannot modify a tuple after it's created.\n",
        "\n",
        ">2. Syntax: **Lists** use square brackets [ ], whereas **tuples** use parentheses ( ).\n",
        "\n",
        ">>This means you define a list like [1, 2, 3] and a tuple like (1, 2, 3).\n",
        "\n",
        ">3. Methods Available: **Lists** have many built-in methods, whereas **tuples **have very few.\n",
        "\n",
        ">>This means you can modify a list using methods like append(), pop(), or sort(), but tuples only support count() and index().\n",
        "\n",
        ">4. Performance: **Tuples** are faster in performance than** lists**.\n",
        "\n",
        ">>This is because tuples are immutable and require less overhead, making them more efficient in fixed-size data operations.\n",
        "\n",
        ">5. Memory Usage: **Tuples** use less memory than **lists.**\n",
        "\n",
        ">>Since tuples are fixed in size, they consume less memory than dynamic lists.\n",
        "\n",
        ">6. Use Case: **Lists** are used when data can change, whereas **tuples** are used for fixed data.\n",
        "\n",
        ">>This means use lists for dynamic operations, and tuples when you want to protect data from modification.\n"
      ],
      "metadata": {
        "id": "Jk0oqgmXhfX2"
      }
    },
    {
      "cell_type": "markdown",
      "source": [],
      "metadata": {
        "id": "jUw3AgEyhoZG"
      }
    },
    {
      "cell_type": "markdown",
      "source": [
        "4.  Describe how dictionaries store data .\n",
        "\n",
        ">A dictionary in Python is a collection of key-value pairs, where each key is unique and is used to access its corresponding value.\n",
        "\n",
        ">Dictionaries store data:\n",
        "\n",
        ">>A dictionary stores data as key-value pairs.\n",
        "\n",
        ">>The key is used to identify the data.\n",
        "\n",
        ">>The value is the data associated with that key.\n",
        "\n",
        ">>It allows for quick access, update, and deletion of data using keys."
      ],
      "metadata": {
        "id": "EC3BXWM1iG08"
      }
    },
    {
      "cell_type": "markdown",
      "source": [
        "5. Why might you use a set instead of a list in Python ?\n",
        "\n",
        ">Reasons to use set instead of list :\n",
        "\n",
        ">1. No duplicate elements : A set automatically removes duplicates, while a list can store them.\n",
        "\n",
        ">2. Faster lookups : Checking if an element exists in a set (in operation) is generally O(1), compared to O(n) for a list.\n",
        "\n",
        ">3. Unordered collection : If you don’t care about the order of elements, sets are more efficient.\n",
        "\n",
        ">4. Mathematical operations : Sets support union, intersection, and difference operations directly.\n",
        "\n",
        ">5. Better for uniqueness checks : When you need only unique items, sets avoid manual duplicate removal."
      ],
      "metadata": {
        "id": "z8V61Ez8iR47"
      }
    },
    {
      "cell_type": "markdown",
      "source": [
        "6. What is a string in Python, and how is it different from a list ?\n",
        "\n",
        ">String: A string is a sequence of characters. Python treats anything inside quotes as a string. This includes letters, numbers, and symbols. Python has no character data type so single character is a string of length 1.\n",
        "\n",
        ">String different from list:\n",
        ">>1. Data Type : A string stores only characters, while a list can store elements of any data type (numbers, strings, objects, etc.).\n",
        "\n",
        ">>2. Mutability : Strings are immutable, whereas lists are mutable .\n",
        "\n",
        ">>3. Element Type : Strings can contain only characters, but lists can have mixed data types.\n",
        "\n",
        ">>4. Modification : You cannot directly change a character in a string, but you can change, add, or remove elements in a list.\n",
        "\n",
        ">>5. Operations : Strings have text-specific methods (upper(), replace(), split()), while lists have collection-specific methods (append(), remove(), sort()).\n",
        "\n",
        ">>6. Representation : Strings are written inside quotes (' ', \" \"), while lists are written inside square brackets [ ].\n",
        "\n",
        ">>7. Usage : Strings are used for text data, while lists are used for storing a sequence of items."
      ],
      "metadata": {
        "id": "_URSBpcrilJj"
      }
    },
    {
      "cell_type": "markdown",
      "source": [
        "7. How do tuples ensure data integrity in Python ?\n",
        "\n",
        ">Tuples ensure data integrity in Python mainly because they are immutable.\n",
        "\n",
        ">Other reasons tuples ensure data integrity:\n",
        ">1. Prevents accidental changes : Since tuples can’t be modified, your data stays exactly as it was when created.\n",
        "\n",
        ">2. Reliable as constants : Tuples can store fixed data (like configuration values) that must remain the same throughout the program.\n",
        "\n",
        ">3. Safe for keys in dictionaries : Their immutability allows them to be used as dictionary keys or stored in sets without risk of being altered.\n",
        "\n",
        ">4. Predictable behavior : No unexpected changes in tuple data make debugging and tracking logic easier.\n",
        "\n",
        ">5. Thread-safety : In multi-threaded programs, immutable data structures like tuples reduce the chance of data corruption from concurrent modifications."
      ],
      "metadata": {
        "id": "ouxqViDTisO5"
      }
    },
    {
      "cell_type": "markdown",
      "source": [
        "8. What is a hash table, and how does it relate to dictionaries in Python ?\n",
        "\n",
        "> A hash table is a data structure that stores key–value pairs and uses a hash function to map each key to a specific index (bucket) in memory.\n",
        "\n",
        ">Relation of Hashtable to dictionaries :\n",
        "\n",
        ">>1. In Python, a dictionary (dict) is implemented using a hash table.\n",
        "\n",
        ">>2. Keys in a dictionary are hashed internally, and their hash values decide where the corresponding values are stored in memory.\n",
        "\n",
        ">>3. Only immutable and hashable objects can be used as dictionary keys.\n",
        "\n",
        ">>4. Hash tables let dictionaries perform very fast lookups, even with large amounts of data.\n",
        "\n",
        "\n",
        "\n",
        "```\n",
        "my_dict = {\"name\": \"Sakshi\", \"age\": 25}\n",
        "# \"name\" is hashed internally → value 25 stored at a memory bucket\n",
        "print(my_dict[\"name\"])  # Output: Alice\n",
        "\n",
        "```"
      ],
      "metadata": {
        "id": "l_Nd4dbRjHas"
      }
    },
    {
      "cell_type": "markdown",
      "source": [
        "9.  Can lists contain different data types in Python ?\n",
        "\n",
        ">Yes, lists in Python can contain different data types in the same list.\n",
        "\n",
        ">A list can hold integers, floats, strings, booleans, objects, even other lists — all mixed together.\n",
        "\n",
        ">This is possible because Python lists are dynamic and store references to objects, not fixed-type elements.\n",
        "\n",
        "\n",
        "\n",
        "```\n",
        "my_list = [10, \"Hello\", 3.14, True, [1, 2, 3]]\n",
        "print(my_list)\n",
        "```"
      ],
      "metadata": {
        "id": "AJmlwGgxjOBx"
      }
    },
    {
      "cell_type": "markdown",
      "source": [
        "10. Explain why strings are immutable in Python .\n",
        "\n",
        ">Reasons String are immutable:\n",
        "\n",
        ">1. Memory efficiency : Immutability allows Python to reuse identical string objects (string interning), saving memory.\n",
        "\n",
        ">2. Hash consistency : Strings must stay unchanged so their hash value remains constant when used as dictionary or set keys.\n",
        "\n",
        ">3. Thread-safety : Because strings can’t be modified, they can be shared between threads without risk of corruption.\n",
        "\n",
        ">4. Predictable behavior : Fixed, unchangeable strings prevent accidental changes, making code more reliable.\n",
        "\n",
        ">5. Performance optimization : Immutable strings can be stored and accessed in a way that speeds up certain operations."
      ],
      "metadata": {
        "id": "7I8N8NGyjQHP"
      }
    },
    {
      "cell_type": "markdown",
      "source": [
        "11. What advantages do dictionaries offer over lists for certain tasks ?\n",
        "\n",
        "> Advantages do dictionaries offer over lists for certain tasks are:\n",
        "\n",
        ">1. Faster lookups : Dictionaries provide average O(1) time complexity for accessing values by key, while lists take O(n) for searches.\n",
        "\n",
        ">2. Key-based access : You can access data using meaningful keys instead of relying on numeric indexes.\n",
        "\n",
        ">3. No need for manual searching : Values are retrieved directly by key without iterating through the entire collection.\n",
        "\n",
        ">4. Unordered but organized : Data is stored in a way that’s easy to manage when you care about associations rather than order.\n",
        "\n",
        ">5. Flexible keys and values : Keys can be any immutable type (string, number, tuple), and values can be any data type.\n",
        "\n",
        ">6. Clear mapping of data : Perfect for storing real-world data with a clear “label → value” relationship.\n",
        "\n",
        "```\n",
        "# List of [name, phone] pairs\n",
        "contacts_list = [[\"Alice\", \"1234\"], [\"Bob\", \"5678\"], [\"Charlie\", \"9101\"]]\n",
        "\n",
        "# Find Bob's number\n",
        "for name, phone in contacts_list:\n",
        "    if name == \"Bob\":\n",
        "        print(phone)  # Output: 5678\n",
        "        break\n",
        "```\n",
        "\n",
        "\n",
        "```\n",
        "# Dictionary of name: phone pairs\n",
        "contacts_dict = {\"Alice\": \"1234\", \"Bob\": \"5678\", \"Charlie\": \"9101\"}\n",
        "\n",
        "# Find Bob's number\n",
        "print(contacts_dict[\"Bob\"])  # Output: 5678\n",
        "```\n",
        "\n",
        "> Difference : Time Complexity of Dictionary is O(1) where as list is  O(n).\n"
      ],
      "metadata": {
        "id": "HUOIMLoojVKl"
      }
    },
    {
      "cell_type": "markdown",
      "source": [
        "12. Describe a scenario where using a tuple would be preferable over a list.\n",
        "\n",
        ">Scenario:\n",
        ">>Storing fixed GPS coordinates of a city in a program.\n",
        "\n",
        "Example:\n",
        "```\n",
        "# Latitude and Longitude of New York\n",
        "new_york_coordinates = (40.7128, -74.0060)\n",
        "\n",
        "```\n",
        "\n",
        ">Why tuple is preferable:\n",
        ">1. The coordinates should never change during the program’s execution → tuples are immutable, ensuring data integrity.\n",
        "\n",
        ">2. Tuples can be used as dictionary keys if you need to store location-based data (lists cannot be keys).\n",
        "\n",
        ">3. Slightly faster than lists for access, making them efficient for fixed datasets.\n"
      ],
      "metadata": {
        "id": "yi-bMxcdnoh1"
      }
    },
    {
      "cell_type": "markdown",
      "source": [
        "13.  How do sets handle duplicate values in Python ?\n",
        "\n",
        ">Sets automatically remove duplicate values because they only store unique elements.\n",
        "\n",
        ">When you try to add a duplicate to a set, Python ignores it silently.\n",
        "\n",
        ">This is possible because sets use a hash table internally, where each element’s hash value must be unique.\n",
        "\n",
        "\n",
        "\n",
        "```\n",
        "my_set = {1, 2, 2, 3, 3, 3}\n",
        "print(my_set)\n",
        "```\n"
      ],
      "metadata": {
        "id": "vZqKOyEQq6iw"
      }
    },
    {
      "cell_type": "markdown",
      "source": [
        "14. How does the “in” keyword work differently for lists and dictionaries ?\n",
        "\n",
        ">The in keyword behaves differently for lists and dictionaries in Python:\n",
        "\n",
        ">1. For lists \"in\" checks if a value exists anywhere in the list.\n",
        "\n",
        "```\n",
        "numbers = [1, 2, 3, 4]\n",
        "print(3 in numbers)   #(checks values)\n",
        "print(5 in numbers)   \n",
        "\n",
        "```\n",
        ">2. For dictionaries – in checks if a key exists in the dictionary (not the value).\n",
        "\n",
        "```\n",
        "person = {\"name\": \"Alice\", \"age\": 25}\n",
        "print(\"name\" in person)   #  checks keys\n",
        "print(\"Alice\" in person)  # does not check values\n",
        "```\n"
      ],
      "metadata": {
        "id": "FLAlfvQCrY8k"
      }
    },
    {
      "cell_type": "markdown",
      "source": [
        "15. Can you modify the elements of a tuple? Explain why or why not .\n",
        "\n",
        ">No we cannot modify the elements of a tuple in Python.\n",
        "\n",
        ">Reason:\n",
        "\n",
        ">1. Tuples are immutable, meaning once they are created, their elements cannot be changed, added, or removed.\n",
        "\n",
        ">2. This immutability ensures data integrity, allows tuples to be used as dictionary keys or stored in sets, and makes them more memory-efficient and thread-safe.\n",
        "\n",
        "```\n",
        "t = (1, 2, 3)\n",
        "t[0] = 10 # TypeError: 'tuple' object does not support item assignment\n",
        "```\n",
        "\n"
      ],
      "metadata": {
        "id": "ZnCyRTzUtFwJ"
      }
    },
    {
      "cell_type": "markdown",
      "source": [
        "16. What is a nested dictionary, and give an example of its use case ?\n",
        "\n",
        ">Nested Dictionary:\n",
        "\n",
        ">1. A nested dictionary is a dictionary that contains another dictionary as one or more of its values.\n",
        "\n",
        ">2. It’s used to store hierarchical or structured data in a compact, organized way.\n",
        "\n",
        "\n",
        "```\n",
        "# Example of usecase\n",
        "students = {\n",
        "    \"Alice\": {\"age\": 20, \"marks\": {\"Math\": 90, \"Science\": 85}},\n",
        "    \"Bob\": {\"age\": 22, \"marks\": {\"Math\": 78, \"Science\": 88}}\n",
        "}\n",
        "\n",
        "# Access Bob's Science marks\n",
        "print(students[\"Bob\"][\"marks\"][\"Science\"])  \n",
        "```"
      ],
      "metadata": {
        "id": "vF7EGcwpvQhc"
      }
    },
    {
      "cell_type": "markdown",
      "source": [
        "17.  Describe the time complexity of accessing elements in a dictionary.\n",
        ">Accessing elements in a dictionary in Python has:\n",
        "\n",
        ">1. Average case: O(1) : Constant time, because dictionaries use a hash table for key lookups.\n",
        "\n",
        ">2. Worst case: O(n) : Happens rarely, only when many keys have the same hash value (hash collision) and Python has to search through them linearly.\n",
        "\n",
        "\n",
        "```\n",
        "person = {\"name\": \"Alice\", \"age\": 25}\n",
        "print(person[\"age\"])  # O(1) average time\n",
        "```"
      ],
      "metadata": {
        "id": "AyBYaI1UwjOw"
      }
    },
    {
      "cell_type": "markdown",
      "source": [
        "18. In what situations are lists preferred over dictionaries ?\n",
        "\n",
        ">Situations where lists are preferred over dictionaries:\n",
        "\n",
        ">1. Order matters : When you need to preserve and work with the sequence of elements.\n",
        "\n",
        ">2. No key-value mapping needed : When you only care about storing values, not associating them with unique keys.\n",
        "\n",
        ">3. Allow duplicates : When you need to store the same value multiple times.\n",
        "\n",
        ">4. Index-based access : When elements are best accessed by their position (index) rather than by a key.\n",
        "\n",
        ">5. Small datasets : For small collections where the speed benefit of a dictionary is negligible.\n",
        "\n",
        ">6. Iteration over values : When you want to loop through elements directly without worrying about keys.\n",
        "\n",
        "\n",
        "```\n",
        "fruits = [\"apple\", \"banana\", \"orange\", \"banana\"]\n",
        "print(fruits[1])\n",
        "```"
      ],
      "metadata": {
        "id": "y5x-eH2Twp_3"
      }
    },
    {
      "cell_type": "markdown",
      "source": [
        "19. Why are dictionaries considered unordered, and how does that affect data retrieval ?\n",
        "\n",
        "> Dictionaries are considered unordered:\n",
        "\n",
        ">1. Before Python 3.7, dictionaries did not guarantee that elements would be stored or iterated in the order they were inserted.\n",
        "\n",
        ">2. This is because dictionaries are implemented using a hash table, where the storage location of each key-value pair depends on the key’s hash value, not its position.\n",
        "\n",
        ">Effect on data retrieval\n",
        "\n",
        ">1. Key-based retrieval is unaffected we can always access a value directly using its key in O(1) time, regardless of order.\n",
        "\n",
        ">2. However, iteration order was unpredictable in older versions of Python, meaning looping over a dictionary could produce elements in any sequence.\n",
        "\n",
        ">3. From Python 3.7+, insertion order is preserved as an implementation detail  but retrieval by key is still independent of order."
      ],
      "metadata": {
        "id": "lVTKbXBTyZ-f"
      }
    },
    {
      "cell_type": "markdown",
      "source": [
        "20. Explain the difference between a list and a dictionary in terms of data retrieval.\n",
        "\n",
        ">Difference between a list and a dictionary in terms of data retrieval:\n",
        ">1. List : Retrieval is index-based\n",
        "\n",
        ">>We access elements using their position (0, 1, 2, …).\n",
        "\n",
        ">>Time complexity: O(1) for direct index access, but O(n) if you search for a value.\n",
        "\n",
        "\n",
        "```\n",
        "fruits = [\"apple\", \"banana\", \"cherry\"]\n",
        "print(fruits[1])\n",
        "```\n",
        "\n",
        ">2. Dictionary : Retrieval is key-based\n",
        "\n",
        ">>We access values using unique keys, not positions.\n",
        "\n",
        ">>Time complexity: O(1) on average because of hashing.\n",
        "\n",
        "\n",
        "```\n",
        "person = {\"name\": \"Alice\", \"age\": 25}\n",
        "print(person[\"age\"])\n",
        "```\n"
      ],
      "metadata": {
        "id": "5mvcstGZymAm"
      }
    },
    {
      "cell_type": "markdown",
      "source": [
        "**Practical Questions**"
      ],
      "metadata": {
        "id": "3IGt2AHrzKIO"
      }
    },
    {
      "cell_type": "code",
      "source": [
        "#1 Write a code to create a string with your name and print it\n",
        "\n",
        "name=input(\"Enter your name\")\n",
        "print(f\"My name is {name}\")"
      ],
      "metadata": {
        "colab": {
          "base_uri": "https://localhost:8080/"
        },
        "id": "euKIbpgjzTWt",
        "outputId": "a184ae01-8f69-4c63-8c68-13b46c041825"
      },
      "execution_count": 2,
      "outputs": [
        {
          "output_type": "stream",
          "name": "stdout",
          "text": [
            "Enter your namesalik\n",
            "My name is salik\n"
          ]
        }
      ]
    },
    {
      "cell_type": "code",
      "source": [
        "#2 Write a code to find the length of the string \"Hello World\"\n",
        "\n",
        "string=\"Hello World\"\n",
        "length=len(string)\n",
        "print(\"Length  of string is :\",length)\n"
      ],
      "metadata": {
        "colab": {
          "base_uri": "https://localhost:8080/"
        },
        "id": "IDdqhgC92xI5",
        "outputId": "b6d310a9-7ae6-4f5a-bdf2-e633088cb1a1"
      },
      "execution_count": 4,
      "outputs": [
        {
          "output_type": "stream",
          "name": "stdout",
          "text": [
            "Length  of string is : 11\n"
          ]
        }
      ]
    },
    {
      "cell_type": "code",
      "source": [
        "#3 Write a code to slice the first 3 characters from the string \"Python Programming\"\n",
        "\n",
        "string=\"Python Programming\"\n",
        "print(\"String after slicing first 3 character :\",string[3:])"
      ],
      "metadata": {
        "colab": {
          "base_uri": "https://localhost:8080/"
        },
        "id": "exm4s7TI3AoD",
        "outputId": "57516216-4edc-48c4-ac25-366aa57e84a9"
      },
      "execution_count": 5,
      "outputs": [
        {
          "output_type": "stream",
          "name": "stdout",
          "text": [
            "String after slicing first 3 character : hon Programming\n"
          ]
        }
      ]
    },
    {
      "cell_type": "code",
      "source": [
        "#4 Write a code to convert the string \"hello\" to uppercase\n",
        "\n",
        "string=\"hello\"\n",
        "print(\"String in uppercase\",string.upper())"
      ],
      "metadata": {
        "colab": {
          "base_uri": "https://localhost:8080/"
        },
        "id": "RpLg9VRR3ivg",
        "outputId": "aa1ecd00-eb48-495b-c058-bc7251b0c018"
      },
      "execution_count": 6,
      "outputs": [
        {
          "output_type": "stream",
          "name": "stdout",
          "text": [
            "String in uppercase HELLO\n"
          ]
        }
      ]
    },
    {
      "cell_type": "code",
      "source": [
        "#5 Write a code to replace the word \"apple\" with \"orange\" in the string \"I like apple\"\n",
        "\n",
        "string=\"I like apple \"\n",
        "\n",
        "new_string=string.replace(\"apple\",\"orange\") #replacing the word apple -->orange\n",
        "\n",
        "print(\"String before replacement :\",string)\n",
        "print(\"String after replacemnt: \",new_string)"
      ],
      "metadata": {
        "colab": {
          "base_uri": "https://localhost:8080/"
        },
        "id": "loW2hscl3owJ",
        "outputId": "203fe244-95fd-4504-9232-4e48d20dd4b6"
      },
      "execution_count": 37,
      "outputs": [
        {
          "output_type": "stream",
          "name": "stdout",
          "text": [
            "String before replacement : I like apple \n",
            "String after replacemnt:  I like orange \n"
          ]
        }
      ]
    },
    {
      "cell_type": "code",
      "source": [
        "#6 Write a code to create a list with numbers 1 to 5 and print it\n",
        "\n",
        "list=[] #empty list\n",
        "for i in range(1,6):\n",
        "  list.append(i) #appending elements\n",
        "print(\"List with number 1 to 5\",list)"
      ],
      "metadata": {
        "colab": {
          "base_uri": "https://localhost:8080/"
        },
        "id": "kQXdw80L4G9X",
        "outputId": "97466210-d9c2-4c00-f923-58501f5dc6fc"
      },
      "execution_count": 8,
      "outputs": [
        {
          "output_type": "stream",
          "name": "stdout",
          "text": [
            "List with number 1 to 5 [1, 2, 3, 4, 5]\n"
          ]
        }
      ]
    },
    {
      "cell_type": "code",
      "source": [
        "#7 Write a code to append the number 10 to the list [1, 2, 3, 4]\n",
        "\n",
        "list=[1,2,3,4]\n",
        "print(\"List before appending 10 : \",list)\n",
        "\n",
        "list.append(10) #adding 10 to lists\n",
        "\n",
        "print(\"List after appending 10 : \" ,list)"
      ],
      "metadata": {
        "colab": {
          "base_uri": "https://localhost:8080/"
        },
        "id": "M4XIB1ta4Vn-",
        "outputId": "23e61bc7-1665-401d-c486-fdad0eb86ab7"
      },
      "execution_count": 38,
      "outputs": [
        {
          "output_type": "stream",
          "name": "stdout",
          "text": [
            "List before appending 10 :  [1, 2, 3, 4]\n",
            "List after appending 10 :  [1, 2, 3, 4, 10]\n"
          ]
        }
      ]
    },
    {
      "cell_type": "code",
      "source": [
        "#8 Write a code to remove the number 3 from the list [1, 2, 3, 4, 5]\n",
        "\n",
        "list=[1,2,3,4,5]\n",
        "print(\"List before removing 3 : \",list)\n",
        "\n",
        "list.remove(3)\n",
        "\n",
        "print(\"List after removing 3 : \" ,list)"
      ],
      "metadata": {
        "colab": {
          "base_uri": "https://localhost:8080/"
        },
        "id": "Yc-S_uW94jC4",
        "outputId": "6d650952-e223-4e5a-911d-e4ccc1c07baa"
      },
      "execution_count": 10,
      "outputs": [
        {
          "output_type": "stream",
          "name": "stdout",
          "text": [
            "List before removing 3 :  [1, 2, 3, 4, 5]\n",
            "List after removing 3 :  [1, 2, 4, 5]\n"
          ]
        }
      ]
    },
    {
      "cell_type": "code",
      "source": [
        "#9 Write a code to access the second element in the list ['a', 'b', 'c', 'd']\n",
        "\n",
        "list=['a', 'b', 'c', 'd']\n",
        "\n",
        "'''acessing second element of list the indexing of list starts with 0 . Therefore element at index 1 is second elemnt of list '''\n",
        "second_element=list[1]\n",
        "\n",
        "print(\"The second element in the list :\",second_element)"
      ],
      "metadata": {
        "colab": {
          "base_uri": "https://localhost:8080/"
        },
        "id": "pyxLut2H5d0m",
        "outputId": "796abfa0-b87c-4a8e-8ac3-55e30e0addec"
      },
      "execution_count": 11,
      "outputs": [
        {
          "output_type": "stream",
          "name": "stdout",
          "text": [
            "The second element in the list : b\n"
          ]
        }
      ]
    },
    {
      "cell_type": "code",
      "source": [
        "#10  Write a code to reverse the list [10, 20, 30, 40, 50]\n",
        "\n",
        "list=[10, 20, 30, 40, 50]\n",
        "print(\"Orginal List\",list)\n",
        "\n",
        "print()\n",
        "\n",
        "#revrse inbuiltfunction\n",
        "list.reverse()\n",
        "print(\"Reversed list by reverse function \",list)\n",
        "print()\n",
        "\n",
        "orginal_list=[10, 20, 30, 40, 50]\n",
        "\n",
        "print(\"Reversed list by slicing\",orginal_list[::-1])"
      ],
      "metadata": {
        "colab": {
          "base_uri": "https://localhost:8080/"
        },
        "id": "ca-pTPqf561v",
        "outputId": "f522faf2-11b7-4bf6-a6d1-148fdea60436"
      },
      "execution_count": 12,
      "outputs": [
        {
          "output_type": "stream",
          "name": "stdout",
          "text": [
            "Orginal List [10, 20, 30, 40, 50]\n",
            "\n",
            "Reversed list by reverse function  [50, 40, 30, 20, 10]\n",
            "\n",
            "Reversed list by slicing [50, 40, 30, 20, 10]\n"
          ]
        }
      ]
    },
    {
      "cell_type": "code",
      "source": [
        "#11 Write a code to create a tuple with the elements 100, 200, 300 and print it\n",
        "\n",
        "tuple=(100, 200, 300 )\n",
        "\n",
        "print(\"Tuple :\",tuple)"
      ],
      "metadata": {
        "colab": {
          "base_uri": "https://localhost:8080/"
        },
        "id": "ILHZpLAk6VIr",
        "outputId": "2a3adfbe-08cf-487e-a8f3-73e7fd7f9f7a"
      },
      "execution_count": 13,
      "outputs": [
        {
          "output_type": "stream",
          "name": "stdout",
          "text": [
            "Tuple : (100, 200, 300)\n"
          ]
        }
      ]
    },
    {
      "cell_type": "code",
      "source": [
        "#12 Write a code to access the second-to-last element of the tuple ('red', 'green', 'blue', 'yellow')\n",
        "\n",
        "tuple=('red', 'green', 'blue', 'yellow')\n",
        "\n",
        "'''acessing second-to-last element of tuple the indexing of list starts with -1 from last . Therefore element at index -2 access the second-to-last element'''\n",
        "print(\"Accessing second-to-last element of tuple : \",tuple[-2])\n"
      ],
      "metadata": {
        "colab": {
          "base_uri": "https://localhost:8080/"
        },
        "id": "JVlqumKF6b5w",
        "outputId": "099a0120-a0c4-4f72-d7dc-3b468a3cad69"
      },
      "execution_count": 14,
      "outputs": [
        {
          "output_type": "stream",
          "name": "stdout",
          "text": [
            "Accessing second-to-last element of tuple :  blue\n"
          ]
        }
      ]
    },
    {
      "cell_type": "code",
      "source": [
        "#13 Write a code to find the minimum number in the tuple (10, 20, 5, 15)\n",
        "\n",
        "tuple=(10, 20, 5, 15)\n",
        "print(\"Minimum value in the tuple :\",min(tuple)) # min inbuilt function"
      ],
      "metadata": {
        "colab": {
          "base_uri": "https://localhost:8080/"
        },
        "id": "7Fp5zXuW6sYt",
        "outputId": "6b01edd1-7b6b-4644-fa44-52690cd9d26f"
      },
      "execution_count": 15,
      "outputs": [
        {
          "output_type": "stream",
          "name": "stdout",
          "text": [
            "Minimum value in the tuple : 5\n"
          ]
        }
      ]
    },
    {
      "cell_type": "code",
      "source": [
        "#14 Write a code to find the index of the element \"cat\" in the tuple ('dog', 'cat', 'rabbit')\n",
        "\n",
        "tuple=('dog', 'cat', 'rabbit')\n",
        "print(\"index of the cat :\",tuple.index(\"cat\")) #index fetch the index of elements"
      ],
      "metadata": {
        "colab": {
          "base_uri": "https://localhost:8080/"
        },
        "id": "-5Zu5JoV6zHT",
        "outputId": "9952149d-a605-4785-b958-742126e123ff"
      },
      "execution_count": 16,
      "outputs": [
        {
          "output_type": "stream",
          "name": "stdout",
          "text": [
            "index of the cat : 1\n"
          ]
        }
      ]
    },
    {
      "cell_type": "code",
      "source": [
        "#15 Write a code to create a tuple containing three different fruits and check if \"kiwi\" is in it\n",
        "\n",
        "tuple1 = (\"banana\" , \"peaches\", \"apple\")\n",
        "tuple2= (\"buleberry\" , \"kiwi\", \"grapes\" )\n",
        "\n",
        "result1= \"kiwi\" in tuple1\n",
        "result2= \"kiwi\" in tuple2\n",
        "\n",
        "print(\"Tuple1 contain kiwi :\",result1)\n",
        "print(\"Tuple2 contain kiwi :\",result2)"
      ],
      "metadata": {
        "colab": {
          "base_uri": "https://localhost:8080/"
        },
        "id": "ZSs4OPDz658k",
        "outputId": "35c41aab-c651-4046-f44a-3c72728c72aa"
      },
      "execution_count": 17,
      "outputs": [
        {
          "output_type": "stream",
          "name": "stdout",
          "text": [
            "Tuple1 contain kiwi : False\n",
            "Tuple2 contain kiwi : True\n"
          ]
        }
      ]
    },
    {
      "cell_type": "code",
      "source": [
        "#16  Write a code to create a set with the elements 'a', 'b', 'c' and print it\n",
        "\n",
        "set={\"a\",\"b\",\"c\"}\n",
        "\n",
        "print(\"Set\",set)"
      ],
      "metadata": {
        "colab": {
          "base_uri": "https://localhost:8080/"
        },
        "id": "UVD5L6E_7Cfv",
        "outputId": "355bd167-9849-4d0d-9e27-580d51f24a6f"
      },
      "execution_count": 18,
      "outputs": [
        {
          "output_type": "stream",
          "name": "stdout",
          "text": [
            "Set {'c', 'b', 'a'}\n"
          ]
        }
      ]
    },
    {
      "cell_type": "code",
      "source": [
        "#17 Write a code to clear all elements from the set {1, 2, 3, 4, 5}.\n",
        "\n",
        "my_set={1, 2, 3, 4, 5}\n",
        "print(\"Before clearing the set: \" ,my_set)\n",
        "\n",
        "#clear it empty the set\n",
        "my_set.clear()\n",
        "print(\"After clearing the set: \",my_set)"
      ],
      "metadata": {
        "colab": {
          "base_uri": "https://localhost:8080/"
        },
        "id": "5KgbtT117E3k",
        "outputId": "90b04d8b-6188-43fe-84c3-068a17eedbb5"
      },
      "execution_count": 52,
      "outputs": [
        {
          "output_type": "stream",
          "name": "stdout",
          "text": [
            "Before clearing the set:  {1, 2, 3, 4, 5}\n",
            "After clearing the set:  set()\n"
          ]
        }
      ]
    },
    {
      "cell_type": "code",
      "source": [
        "#18  Write a code to remove the element 4 from the set {1, 2, 3, 4}.\n",
        "\n",
        "my_set = {1, 2, 3, 4}\n",
        "print(\"Before removing 4 from the set:\", my_set)\n",
        "\n",
        "# remove the element\n",
        "my_set.remove(4)\n",
        "\n",
        "print(\"After removing 4 from the set:\", my_set)"
      ],
      "metadata": {
        "colab": {
          "base_uri": "https://localhost:8080/"
        },
        "id": "nhdlGgDL7T2w",
        "outputId": "0c14f99b-bfd1-45eb-d562-94ab5c349869"
      },
      "execution_count": 20,
      "outputs": [
        {
          "output_type": "stream",
          "name": "stdout",
          "text": [
            "Before removing 4 from the set: {1, 2, 3, 4}\n",
            "After removing 4 from the set: {1, 2, 3}\n"
          ]
        }
      ]
    },
    {
      "cell_type": "code",
      "source": [
        "#19 Write a code to find the union of two sets {1, 2, 3} and {3, 4, 5}\n",
        "\n",
        "set1={1, 2, 3}\n",
        "set2={3, 4, 5}\n",
        "\n",
        "#using union function  returns unquie element of set\n",
        "print(\"Union of set with union fuction :\",set1.union(set2))\n",
        "\n",
        "# union with \"| \"\n",
        "print(\"Union of set with '|':\",set1|set2)"
      ],
      "metadata": {
        "colab": {
          "base_uri": "https://localhost:8080/"
        },
        "id": "UCmx29ZF7bGk",
        "outputId": "cf3ae6fd-9974-4578-8220-ce5e336f9a89"
      },
      "execution_count": 21,
      "outputs": [
        {
          "output_type": "stream",
          "name": "stdout",
          "text": [
            "Union of set with union fuction : {1, 2, 3, 4, 5}\n",
            "Union of set with '|': {1, 2, 3, 4, 5}\n"
          ]
        }
      ]
    },
    {
      "cell_type": "code",
      "source": [
        "#20  Write a code to find the intersection of two sets {1, 2, 3} and {2, 3, 4}\n",
        "\n",
        "set1={1, 2, 3}\n",
        "set2={2, 3, 4}\n",
        "\n",
        "#using intersection function  returns common element of set\n",
        "print(\"Intersection of set with intersection function :\",set1.intersection(set2))\n",
        "\n",
        "# Intersection with \"& \"\n",
        "print(\"Intersection of set with '&' :\",set1&set2)"
      ],
      "metadata": {
        "colab": {
          "base_uri": "https://localhost:8080/"
        },
        "id": "EuGI2U0T75db",
        "outputId": "baaeaa96-6446-4265-b084-298e7773373b"
      },
      "execution_count": 22,
      "outputs": [
        {
          "output_type": "stream",
          "name": "stdout",
          "text": [
            "Intersection of set with intersection function : {2, 3}\n",
            "Intersection of set with '&' : {2, 3}\n"
          ]
        }
      ]
    },
    {
      "cell_type": "code",
      "source": [
        "#21  Write a code to create a dictionary with the keys \"name\", \"age\", and \"city\", and print it\n",
        "\n",
        "my_dictionary={\"name\":\"Salik\",\"age\":\"23\",\"city\":\"Rampur\"}\n",
        "print(\"Dictionary :\",my_dictionary)"
      ],
      "metadata": {
        "colab": {
          "base_uri": "https://localhost:8080/"
        },
        "id": "f8t7qvmA8j8G",
        "outputId": "4d84dac5-f614-4504-d358-d25799d50445"
      },
      "execution_count": 24,
      "outputs": [
        {
          "output_type": "stream",
          "name": "stdout",
          "text": [
            "Dictionary : {'name': 'Salik', 'age': '23', 'city': 'Rampur'}\n"
          ]
        }
      ]
    },
    {
      "cell_type": "code",
      "source": [
        "#22 Write a code to add a new key-value pair \"country\": \"USA\" to the dictionary {'name': 'John', 'age': 25}\n",
        "\n",
        "my_dictionary={'name': 'John', 'age': 25}\n",
        "print(\"Dictionary before adding new key-value pair :\",my_dictionary)\n",
        "my_dictionary[\"country\"] = \"USA\" #adding element\n",
        "print(\"Dictionary after adding new key-value pair :\",my_dictionary)"
      ],
      "metadata": {
        "colab": {
          "base_uri": "https://localhost:8080/"
        },
        "id": "Z2SFJvCQj0Rb",
        "outputId": "8123f7c0-dfc1-49de-a5cd-befaad6b7852"
      },
      "execution_count": 40,
      "outputs": [
        {
          "output_type": "stream",
          "name": "stdout",
          "text": [
            "Dictionary before adding new key-value pair : {'name': 'John', 'age': 25}\n",
            "Dictionary after adding new key-value pair : {'name': 'John', 'age': 25, 'country': 'USA'}\n"
          ]
        }
      ]
    },
    {
      "cell_type": "code",
      "source": [
        "#23 Write a code to access the value associated with the key \"name\" in the dictionary {'name': 'Alice', 'age': 30}\n",
        "\n",
        "my_dictionary={'name': 'Alice', 'age': 30}\n",
        "print(\"The value associated with keyword name :\",my_dictionary.get(\"name\")) #accessing the value associated with the key \"name\""
      ],
      "metadata": {
        "colab": {
          "base_uri": "https://localhost:8080/"
        },
        "id": "UDSkqQ8z9XMj",
        "outputId": "a6971c61-1a85-459c-d4aa-b96ff731cf40"
      },
      "execution_count": 42,
      "outputs": [
        {
          "output_type": "stream",
          "name": "stdout",
          "text": [
            "The value associated with keyword name : Alice\n"
          ]
        }
      ]
    },
    {
      "cell_type": "code",
      "source": [
        "#24 Write a code to remove the key \"age\" from the dictionary {'name': 'Bob', 'age': 22, 'city': 'New York'}\n",
        "\n",
        "my_dict={'name': 'Bob', 'age': 22, 'city': 'New York'}\n",
        "print(\"Before removing age :\",my_dict)\n",
        "\n",
        "# removing age\n",
        "my_dict.pop(\"age\")\n",
        "print(\"After removing age :\",my_dict)"
      ],
      "metadata": {
        "colab": {
          "base_uri": "https://localhost:8080/"
        },
        "id": "eaN25hT_95cF",
        "outputId": "91ac2af0-e535-41e6-e50d-cdd20cdf10e4"
      },
      "execution_count": 44,
      "outputs": [
        {
          "output_type": "stream",
          "name": "stdout",
          "text": [
            "Before removing age : {'name': 'Bob', 'age': 22, 'city': 'New York'}\n",
            "After removing age : {'name': 'Bob', 'city': 'New York'}\n"
          ]
        }
      ]
    },
    {
      "cell_type": "code",
      "source": [
        "#25 Write a code to check if the key \"city\" exists in the dictionary {'name': 'Alice', 'city': 'Paris'}.\n",
        "\n",
        "my_dict={'name': 'Alice', 'city': 'Paris'}\n",
        "\n",
        "if \"city\" in my_dict.keys():\n",
        "  print(\"Dictionary contain city\")\n",
        "else:\n",
        "  print(\"False\")\n"
      ],
      "metadata": {
        "colab": {
          "base_uri": "https://localhost:8080/"
        },
        "id": "5sUwcxpN-a3i",
        "outputId": "1d4998e4-e9ae-4f4b-bad4-f6e8b2af9636"
      },
      "execution_count": 45,
      "outputs": [
        {
          "output_type": "stream",
          "name": "stdout",
          "text": [
            "Dictionary contain city\n"
          ]
        }
      ]
    },
    {
      "cell_type": "code",
      "source": [
        "#26 Write a code to create a list, a tuple, and a dictionary, and print them all.\n",
        "\n",
        "my_list=[1,2,4,\"hello\",False,True]\n",
        "my_tuple=(5,3,6)\n",
        "my_dict={'name': 'Alice', 'city': 'Paris'}\n",
        "\n",
        "print(f\"my_list :{my_list} and type is {type(my_list)}\")\n",
        "print()\n",
        "print(f\"my_tuple :{my_tuple} and type is {type(my_tuple)}\")\n",
        "print()\n",
        "print(f\"my_dict :{my_dict} and type is {type(my_dict)}\")"
      ],
      "metadata": {
        "colab": {
          "base_uri": "https://localhost:8080/"
        },
        "id": "H8jRBwbw-hDp",
        "outputId": "b7bb0bd1-796b-4c20-c0bd-cb7dfa6dfead"
      },
      "execution_count": 29,
      "outputs": [
        {
          "output_type": "stream",
          "name": "stdout",
          "text": [
            "my_list :[1, 2, 4, 'hello', False, True] and type is <class 'list'>\n",
            "\n",
            "my_tuple :(5, 3, 6) and type is <class 'tuple'>\n",
            "\n",
            "my_dict :{'name': 'Alice', 'city': 'Paris'} and type is <class 'dict'>\n"
          ]
        }
      ]
    },
    {
      "cell_type": "code",
      "source": [
        "#27 Write a code to create a list of 5 random numbers between 1 and 100, sort it in ascending order, and print the result .(replaced)\n",
        "\n",
        "import random\n",
        "\n",
        "# List with random 5 numbers\n",
        "random_numbers = random.sample(range(1, 101), 5)\n",
        "print(\"list before sorting :\",random_numbers)\n",
        "\n",
        "# sort function sort the list in ascending order\n",
        "random_numbers.sort()\n",
        "\n",
        "\n",
        "print(\"Sorted random numbers:\", random_numbers)"
      ],
      "metadata": {
        "colab": {
          "base_uri": "https://localhost:8080/"
        },
        "id": "RvhVhIgL-ujx",
        "outputId": "1826fe78-d325-4624-f7fc-b50e7931884b"
      },
      "execution_count": 30,
      "outputs": [
        {
          "output_type": "stream",
          "name": "stdout",
          "text": [
            "list before sorting : [19, 39, 100, 13, 45]\n",
            "Sorted random numbers: [13, 19, 39, 45, 100]\n"
          ]
        }
      ]
    },
    {
      "cell_type": "code",
      "source": [
        "#28 Write a code to create a list with strings and print the element at the third index\n",
        "\n",
        "my_list = [\"apple\", \"banana\", \"cherry\", \"date\", \"blueberry\"]\n",
        "print(\"Element at index 3:\", my_list[3])"
      ],
      "metadata": {
        "colab": {
          "base_uri": "https://localhost:8080/"
        },
        "id": "ODYauZjUSr_H",
        "outputId": "43ab2b12-d6ab-4309-b286-eee33d818453"
      },
      "execution_count": 46,
      "outputs": [
        {
          "output_type": "stream",
          "name": "stdout",
          "text": [
            "Element at index 3: date\n"
          ]
        }
      ]
    },
    {
      "cell_type": "code",
      "source": [
        "#29  Write a code to combine two dictionaries into one and print the result.\n",
        "\n",
        "dict1={'name': 'Alice', 'city': 'Paris'}\n",
        "dict2 ={'age':24,'gender':'Male'}\n",
        "\n",
        "print(\"Dict 1 : \",dict1)\n",
        "print(\"Dict 2 : \",dict2)\n",
        "print()\n",
        "# update function extend or combine the list\n",
        "dict1.update(dict2)\n",
        "\n",
        "print(\"Dictionary 1 after combing both dictionary :\" , dict1)"
      ],
      "metadata": {
        "colab": {
          "base_uri": "https://localhost:8080/"
        },
        "id": "BHp-Ut8sS88-",
        "outputId": "5651db08-8d07-4b27-916f-ee7ad862a1e1"
      },
      "execution_count": 33,
      "outputs": [
        {
          "output_type": "stream",
          "name": "stdout",
          "text": [
            "Dict 1 :  {'name': 'Alice', 'city': 'Paris'}\n",
            "Dict 2 :  {'age': 24, 'gender': 'Male'}\n",
            "\n",
            "Dictionary 1 after combing both dictionary : {'name': 'Alice', 'city': 'Paris', 'age': 24, 'gender': 'Male'}\n"
          ]
        }
      ]
    },
    {
      "cell_type": "code",
      "source": [
        "#30. Write a code to convert a list of strings into a set.\n",
        "# List of strings\n",
        "string_list = [\"apple\", \"banana\", \"cherry\", \"apple\", \"banana\"]\n",
        "\n",
        "# Convert list to set\n",
        "string_set = set(string_list)\n",
        "\n",
        "# Display result\n",
        "print(\"Original List:\", string_list)\n",
        "print(\"Converted Set:\", string_set)\n"
      ],
      "metadata": {
        "id": "O6nxVeggoB43"
      },
      "execution_count": null,
      "outputs": []
    }
  ]
}