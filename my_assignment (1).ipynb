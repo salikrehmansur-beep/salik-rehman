{
  "nbformat": 4,
  "nbformat_minor": 0,
  "metadata": {
    "colab": {
      "provenance": []
    },
    "kernelspec": {
      "name": "python3",
      "display_name": "Python 3"
    },
    "language_info": {
      "name": "python"
    }
  },
  "cells": [
    {
      "cell_type": "markdown",
      "source": [
        "1.  What is Python, and why is it popular\n",
        ">>Python is a high level, interpreted and dynamically typed programming language known for its readability and versatility. but it is also incorporates compilation. Python code (.py files) is first compiled into byte code (.pyc files), which is then executed by the Python Virtual Machine (PVM). This makes Python a combination of compiled and interpreted languages.\n",
        ">> Pythion is popular as:\n",
        ">>1. Easy to read and understand :Python has clean, English-like syntax    that makes it easy to write and read code.\n",
        ">>2. Free and open Source : Python is freely available for use, and its source code can be modified and shared.\n",
        ">>3. Python has Multiple platform and Works across all major OS like Windows, macOS, and Linux without code changes.\n",
        ">>4. Huge and Active Community: Millions of users contribute tutorials, tools, and support for learners and developers.\n",
        ">>5. Hundreds of Libraries and Frameworks : Offers powerful libraries like NumPy, Django, TensorFlow for faster development.\n"
      ],
      "metadata": {
        "id": "SkUzGl8EduPn"
      }
    },
    {
      "cell_type": "markdown",
      "source": [
        "2. what is an interpreter in python?\n",
        "> An interpreter translates and executes code line by line. Interpreters are the computer progream that can convert the source  code or an high level language into intermediate code (machine level languge). It stops at first error and show it immediately.\n",
        "\n",
        "  >**Working of Interpreter**\n",
        "\n",
        "  >>source code ---> interpreter--->Executable Code----> next line -----> sourcecode.....\n",
        "  \n",
        "   >>You write Python code (.py file).\n",
        "\n",
        "   >>The Python interpreter reads one line at a time.\n",
        "\n",
        "   >>It translates that line into machine code and executes it immediately.\n"
      ],
      "metadata": {
        "id": "zkPMm5J2kWp1"
      }
    },
    {
      "cell_type": "markdown",
      "source": [
        "3. What are pre deffined keywords in python?\n",
        "> Pre defined keywords in python are reserved words which have special meaning in the language. Can't use them as veriable name, function names or identifier.\n",
        "\n",
        "  > Key Points:\n",
        "    >1.   Keywords perform specific roles in the syntax e.g., if, while, def.\n",
        "    >2.   You can’t use them for custom variable or function names.\n",
        "    >3.   Case-sensitive i.e True is valid, but true is not.\n",
        "\n",
        "  >Examples : if, else, elif, while, for, break, continue, pass,\tdef, return, lambda, class"
      ],
      "metadata": {
        "id": "drWHWTQWvXlO"
      }
    },
    {
      "cell_type": "markdown",
      "source": [
        "5. What is mutability in Python ?\n",
        "   >Mutability in Python refers to whether an object’s value can be changed after it is created.\n",
        "  \n",
        "  >- Mutable objects can be changed (e.g., lists, dictionaries, sets).\n",
        "  >- Immutable objects cannot be changed (e.g., strings, tuples, integers).\n"
      ],
      "metadata": {
        "id": "XIlTjGwu4RTq"
      }
    },
    {
      "cell_type": "markdown",
      "source": [
        "6. Why are lists mutable, but tuples are immutable\n",
        ">Why are lists mutable, but tuples immutable in Python?\n",
        ">- Lists are designed to be flexible and changeable collections. You can add, remove, or modify items because lists are used for situations where the data needs to be updated frequently.\n",
        ">- Tuples are designed to be fixed and unchangeable. Once created, their contents cannot be altered. This immutability makes tuples:\n",
        ">>- More memory-efficient and faster to access.\n",
        ">>- Safer to use as keys in dictionaries or elements of sets (which require immutability).\n",
        ">>- Useful for representing fixed collections of items, like coordinates or database records."
      ],
      "metadata": {
        "id": "Djuz_oLeDF1A"
      }
    },
    {
      "cell_type": "markdown",
      "source": [
        "7. What is the difference between “==” and “is” operators in Python ?\n",
        "  >\"==\" Operator (Equality) (Comparsion Operator)\n",
        "    1. Checks if the values of two objects are equal.\n",
        "    2. It compares the content or data of the objects.\n",
        "    3. gives True if the values look the same\n",
        "\n",
        "  >\"is\" Operator (Identity Operator)\n",
        "\n",
        "    1. Checks if two variables point to the same object in memory\n",
        "    2. Compares the identity (memory address), not the value\n",
        "    3. Returns True if both refer to the exact same object"
      ],
      "metadata": {
        "id": "5s5pqgcMERWo"
      }
    },
    {
      "cell_type": "markdown",
      "source": [
        "8.What are logical operators in Python ?\n",
        ">Logical operators are used to combine multiple conditions and return a boolean result (True or False).\n",
        "\n",
        ">>1. and:\n",
        "This operator returns True only if both conditions are True.\n",
        "\n",
        ">>2. or:\n",
        "This operator returns True if at least one of the conditions is True.\n",
        "\n",
        ">>3. not:\n",
        "This operator inverts the result. If the condition is True, it returns False, and vice versa."
      ],
      "metadata": {
        "id": "bY1QDFu0Lcat"
      }
    },
    {
      "cell_type": "markdown",
      "source": [
        "9.What is type casting in Python ?\n",
        ">Type casting in Python refers to converting one data type into another. It's useful when you need to operate on variables of different types or need a specific type for a function or operation.\n",
        "\n",
        ">like combining a number and a string, or ensuring the right type in calculations.\n",
        "\n",
        "> Type of typecasting\n",
        ">>***Implicit Type Casting*** (Automatic):\n",
        "\n",
        ">>>Python automatically converts one data type to another when it's safe to do so.\n",
        "\n",
        ">>>No user involvement\n",
        "\n",
        ">>>Usually from lower to higher data types (e.g., int → float)\n",
        "\n",
        ">> ***Explicit Type Casting***\n",
        "\n",
        ">>>You manually convert one type to another using Python’s built-in functions.\n",
        "\n",
        ">>>***Common functions:***\n",
        "\n",
        "- int() – Converts to integer\n",
        "\n",
        "- float() – Converts to float\n",
        "\n",
        "- str() – Converts to string\n",
        "\n",
        "- bool() – Converts to boolean\n",
        "\n",
        "- list(), tuple(), set() – For converting between collections"
      ],
      "metadata": {
        "id": "bU0FFBW6MOQQ"
      }
    },
    {
      "cell_type": "markdown",
      "source": [
        "10.What is the difference between implicit and explicit type casting?\n",
        "Difference between implicit and explicit type casting in Python.\n",
        ">Implicit\n",
        ">>Done automatically by Python\n",
        "\n",
        ">>Happens when combining different data types\n",
        "\n",
        ">>Converts from lower to higher precision to avoid data loss\n",
        "\n",
        ">>No need for being intervention.\n",
        "\n",
        ">Explicit\n",
        ">>Done manually by the programmer\n",
        "\n",
        ">>You can use built-in functions like int(), float(), str()\n",
        "\n",
        ">>Needed when Python can’t automatically convert, or you want full control\n"
      ],
      "metadata": {
        "id": "tmocQHGEQhN1"
      }
    },
    {
      "cell_type": "markdown",
      "source": [
        "11.What is the purpose of conditional statements in Python ?\n",
        ">Conditional statements in Python are used to make decisions in a program. They allow the program to execute certain blocks of code only if specific conditions are met.\n",
        "\n",
        "> ***Common conditional statements in Python:***\n",
        "\n",
        ">>1. if\n",
        "\n",
        ">>2. if...else\n",
        "\n",
        ">>3. if...elif...else\n",
        "\n",
        ">Why are they useful?\n",
        ">>They add logic and flexibility to your programs..\n",
        "\n",
        ">>Help programs make choices (like “if this happens, do that”).\n",
        "\n",
        ">>They are essential for decision-making processes in code (e.g., login systems, game rules, data validation, etc.)..\n",
        "\n",
        ">>Avoid unnecessary execution of code blocks.\n"
      ],
      "metadata": {
        "id": "650jy3WTSvR4"
      }
    },
    {
      "cell_type": "markdown",
      "source": [
        "12.How does the elif statement work ?\n",
        ">The elif statement in python is used to check multiple conditions in a sequence after an initial 'if'. It only executes it's block if the previous conditions were False and it's own condition is True.\n",
        ">How it works:\n",
        ">>Python checks the \"if\" & \"else\" conditions\n",
        "\n",
        ">>As soon as it finds a True condition, it executes the code under that block and skips the rest..\n",
        "\n",
        ">>If none of the if or elif conditions are True, and there's an else block, that block runs.\n",
        "\n",
        "\n",
        ">Example :\n",
        "\n",
        ">>Python checks the \"if\" condition.\n",
        "\n",
        ">>As it finds If \"if\" is False, it checks the elif condition.\n",
        "\n",
        ">>If \"elif\" is True, it runs the elif block.\n",
        "\n",
        ">>If all conditions are False, it runs the \"else\" block (if provided).\n"
      ],
      "metadata": {
        "id": "QFWfzA09U3dE"
      }
    },
    {
      "cell_type": "code",
      "source": [
        "# For example\n",
        "score = 75\n",
        "\n",
        "if score >= 90:\n",
        "    print(\"Grade: A\")\n",
        "elif score >= 80:\n",
        "    print(\"Grade: B\")\n",
        "elif score >= 70:\n",
        "    print(\"Grade: C\")\n",
        "else:\n",
        "    print(\"Grade: F\")"
      ],
      "metadata": {
        "id": "sRa449bpbe2w"
      },
      "execution_count": null,
      "outputs": []
    },
    {
      "cell_type": "markdown",
      "source": [
        "13. What is the difference between for and while loops?\n",
        "\n",
        ">Python provides two main types of loops: for and while. Both are used to repeat code, but they differ in how and when they stop.\n",
        "\n",
        ">> \"for\" Loop\n",
        ">>- Used when you know beforehand how many times you want to iterate.\n",
        "\n",
        ">>- It loops over a sequence like a list, string, tuple, or range.\n",
        "\n",
        ">>- Automatically stops when the sequence ends.\n",
        "\n",
        ">\"While\" Loop\n",
        "\n",
        ">>- Used when you don't know in advance how many times to loop.\n",
        "\n",
        ">>- Keeps running as long as the condition is True.\n",
        "\n",
        ">>- You must manually update variables to eventually stop the loop"
      ],
      "metadata": {
        "id": "5bBk-goMbeMU"
      }
    },
    {
      "cell_type": "markdown",
      "source": [
        "14.Describe a scenario where a while loop is more suitable than a for loop.\n",
        ">A while loop is more suitable when you don't know in advance how many times the loop will run — i.e., when the loop depends on a condition that changes during execution.\n",
        ">Example Scenario: User Login System\n",
        "\n",
        "\n",
        "```\n",
        "correct_password = \"hello_world_\"\n",
        "user_input = \"\"\n",
        "\n",
        "while user_input != correct_password:\n",
        "    user_input = input(\"Enter password: \")\n",
        "\n",
        "print(\"Access granted!\")\n",
        "\n",
        "```\n",
        ">Reason While suitable for this senario\n",
        ">>You don’t know how many attempts the user will need.\n",
        "\n",
        ">>The loop continues as long as the condition is not met.\n",
        "\n",
        ">>Using a for loop would force you to limit attempts artificially.\n"
      ],
      "metadata": {
        "id": "fCDa80kAbZIl"
      }
    },
    {
      "cell_type": "code",
      "source": [
        "#1.  Write a Python program to print \"Hello, World!\"\n",
        "\n",
        "print(\"Hello, World!\")"
      ],
      "metadata": {
        "colab": {
          "base_uri": "https://localhost:8080/"
        },
        "id": "SmiI2iT2dP5o",
        "outputId": "bb878d28-48c8-4afe-fa22-a5f0a1cad337"
      },
      "execution_count": 9,
      "outputs": [
        {
          "output_type": "stream",
          "name": "stdout",
          "text": [
            "Hello, World!\n"
          ]
        }
      ]
    },
    {
      "cell_type": "code",
      "source": [
        "#2 Write a Python program that displays your name and age\n",
        "name=\"salik_rehman\"\n",
        "age=22\n",
        "print(f\"My name is {name} and age is {age}\")"
      ],
      "metadata": {
        "colab": {
          "base_uri": "https://localhost:8080/"
        },
        "id": "aVhz-tvddR1n",
        "outputId": "34b6e8d6-d480-4ccc-c48c-559e33f70ae3"
      },
      "execution_count": 8,
      "outputs": [
        {
          "output_type": "stream",
          "name": "stdout",
          "text": [
            "My name is salik_rehman and age is 22\n"
          ]
        }
      ]
    },
    {
      "cell_type": "code",
      "source": [
        "#3. Write code to print all the pre-defined keywords in Python using the keyword library\n",
        "import keyword\n",
        "print(keyword.kwlist)"
      ],
      "metadata": {
        "colab": {
          "base_uri": "https://localhost:8080/"
        },
        "id": "S-PiR7xrdfU8",
        "outputId": "3182d3c0-7709-41f4-9a38-5edd56766f12"
      },
      "execution_count": 10,
      "outputs": [
        {
          "output_type": "stream",
          "name": "stdout",
          "text": [
            "['False', 'None', 'True', 'and', 'as', 'assert', 'async', 'await', 'break', 'class', 'continue', 'def', 'del', 'elif', 'else', 'except', 'finally', 'for', 'from', 'global', 'if', 'import', 'in', 'is', 'lambda', 'nonlocal', 'not', 'or', 'pass', 'raise', 'return', 'try', 'while', 'with', 'yield']\n"
          ]
        }
      ]
    },
    {
      "cell_type": "code",
      "source": [
        "#4. Write a program that checks if a given word is a Python keyword.\n",
        "import keyword\n",
        "word=input(\"Enter the word\")\n",
        "list_keywords=keyword.kwlist\n",
        "if word in list_keywords:\n",
        "  print(\"It is a Keyword\")\n",
        "else:\n",
        "  print(\"It is not a keyword\")"
      ],
      "metadata": {
        "colab": {
          "base_uri": "https://localhost:8080/"
        },
        "id": "dO6tie6dduWQ",
        "outputId": "14e01e66-2b31-4de9-f364-4e6038454cc5"
      },
      "execution_count": 11,
      "outputs": [
        {
          "output_type": "stream",
          "name": "stdout",
          "text": [
            "Enter the wordprint\n",
            "It is not a keyword\n"
          ]
        }
      ]
    },
    {
      "cell_type": "code",
      "source": [],
      "metadata": {
        "id": "2riGMit3fJ9X"
      },
      "execution_count": null,
      "outputs": []
    },
    {
      "cell_type": "code",
      "source": [
        "#5. Create a list and tuple in Python, and demonstrate how attempting to change an element works differently for each.\n",
        "\n",
        "# Creating a list\n",
        "my_list = [10, 20, 30]\n",
        "print(\"Original list:\", my_list)\n",
        "\n",
        "# Modifying an element in the list\n",
        "my_list[1] = 200\n",
        "print(\"Modified list:\", my_list)\n",
        "\n",
        "# Creating a tuple\n",
        "my_tuple = (10, 20, 30)\n",
        "print(\"Original tuple:\", my_tuple)\n",
        "\n",
        "# Attempting to modify an element in the tuple\n",
        "try:\n",
        "    my_tuple[1] = 200\n",
        "except TypeError as e:\n",
        "    print(\"Error when trying to modify tuple:\", e)"
      ],
      "metadata": {
        "colab": {
          "base_uri": "https://localhost:8080/"
        },
        "id": "z9jOpTPgfmHl",
        "outputId": "8f204bfc-9ebd-4f28-f914-df4d6a999a25"
      },
      "execution_count": 14,
      "outputs": [
        {
          "output_type": "stream",
          "name": "stdout",
          "text": [
            "Original list: [10, 20, 30]\n",
            "Modified list: [10, 200, 30]\n",
            "Original tuple: (10, 20, 30)\n",
            "Error when trying to modify tuple: 'tuple' object does not support item assignment\n"
          ]
        }
      ]
    },
    {
      "cell_type": "code",
      "source": [
        "#6. Write a function to demonstrate the behavior of mutable and immutable arguments.\n",
        "def mutable():\n",
        "  my_lst=[1,2,6,4]#list\n",
        "  print(\"original list: \",my_lst)\n",
        "  #changing an element in list\n",
        "  my_lst[2]=5\n",
        "  print(\"list after changing an element :\",my_lst)\n",
        "def immutable():\n",
        "  my_tuple=(2,4,3,6,) #tuple\n",
        "  print(\"original tuple: \",my_tuple)\n",
        "  #changing an element in list\n",
        "  try:\n",
        "    my_tuple[2]=5\n",
        "    print(\"Tuple after changing an element :\",my_tuple)\n",
        "  except:\n",
        "    print(\"Tuple is Immutable\")\n",
        "\n",
        "mutable()\n",
        "immutable()"
      ],
      "metadata": {
        "colab": {
          "base_uri": "https://localhost:8080/"
        },
        "id": "QweQKCVvf5fy",
        "outputId": "536d1ad3-969b-47e8-f077-4c2485ebb6bc"
      },
      "execution_count": 17,
      "outputs": [
        {
          "output_type": "stream",
          "name": "stdout",
          "text": [
            "original list:  [1, 2, 6, 4]\n",
            "list after changing an element : [1, 2, 5, 4]\n",
            "original tuple:  (2, 4, 3, 6)\n",
            "Tuple is Immutable\n"
          ]
        }
      ]
    },
    {
      "cell_type": "code",
      "source": [
        "#7. Write a program that performs basic arithmetic operations on two user-input numbers.\n",
        "num1=int(input(\"Enter the first number\"))\n",
        "num2=int(input(\"Enter the second number\"))\n",
        "print(\"Addition of two number :\",num1+num2)\n",
        "print(\"Subtraction of two number :\",num1-num2)\n",
        "print(\"Multiplication of two number :\",num1*num2)\n",
        "print(\"Division of two number :\",num1/num2)\n",
        "print(\"modulous of two number :\",num1%num2)\n",
        "print(\"Floor Division of two number :\",num1//num2)\n",
        "print(\"Exponential of two number :\",num1/num2)"
      ],
      "metadata": {
        "colab": {
          "base_uri": "https://localhost:8080/"
        },
        "id": "0ZfS-JgHg223",
        "outputId": "3b97ed81-dc8b-42e0-e6ea-3e2134ee7c0e"
      },
      "execution_count": 20,
      "outputs": [
        {
          "output_type": "stream",
          "name": "stdout",
          "text": [
            "Enter the first number4\n",
            "Enter the second number2\n",
            "Addition of two number : 6\n",
            "Subtraction of two number : 2\n",
            "Multiplication of two number : 8\n",
            "Division of two number : 2.0\n",
            "modulous of two number : 0\n",
            "Floor Division of two number : 2\n",
            "Exponential of two number : 2.0\n"
          ]
        }
      ]
    },
    {
      "cell_type": "code",
      "source": [
        "#8. Write a program to demonstrate the use of logical operators.\n",
        "num1=True\n",
        "num2=False\n",
        "print(\"logical Operator and :\",num1 and num2)\n",
        "print(\"logical Operator or :\",num1 or num2)\n",
        "print(\"logical Operator not :\",not num1 )"
      ],
      "metadata": {
        "colab": {
          "base_uri": "https://localhost:8080/"
        },
        "id": "EwXE91hrgLw2",
        "outputId": "f8bfc08b-44e3-4ff7-b6fd-7c2ff4ad7f2d"
      },
      "execution_count": 21,
      "outputs": [
        {
          "output_type": "stream",
          "name": "stdout",
          "text": [
            "logical Operator and : False\n",
            "logical Operator or : True\n",
            "logical Operator not : False\n"
          ]
        }
      ]
    },
    {
      "cell_type": "code",
      "source": [
        "#9.  Write a Python program to convert user input from string to integer, float, and boolean types.\n",
        "user_input=input(\"Enter the number\")\n",
        "print(\"User_input :\",user_input)\n",
        "if user_input.isdigit():\n",
        "  #String --> integer\n",
        "  print(\"User input in integer:\",int(user_input))\n",
        "  #String --> float\n",
        "  print(\"User input in float:\",float(user_input))\n",
        "  #String --> boolean\n",
        "  print(\"User input in boolean:\",bool(user_input))\n",
        "else:\n",
        "  print(\"Invalid Input , Enter a digit\")"
      ],
      "metadata": {
        "colab": {
          "base_uri": "https://localhost:8080/"
        },
        "id": "I9JFby6eiXLo",
        "outputId": "e21e5634-20c8-4f0f-e040-d49f4f5dff75"
      },
      "execution_count": 22,
      "outputs": [
        {
          "output_type": "stream",
          "name": "stdout",
          "text": [
            "Enter the number2002\n",
            "User_input : 2002\n",
            "User input in integer: 2002\n",
            "User input in float: 2002.0\n",
            "User input in boolean: True\n"
          ]
        }
      ]
    },
    {
      "cell_type": "code",
      "source": [
        "#10. Write code to demonstrate type casting with list elements.\n",
        "\n",
        "#lst1 consist of float and integer\n",
        "def implicit(lst1):\n",
        "  total_sum=sum(lst1)\n",
        "  print(total_sum)\n",
        "\n",
        "def explicit(lst2):\n",
        "  num=[int(i) for i in lst2]\n",
        "  total_sum2=sum(num)\n",
        "  print(total_sum2)\n",
        "\n",
        "#lst2 consist of string and integer\n",
        "lst1=[1,2,3.3,4.5,6.0]\n",
        "lst2=['1','2','3','4','5']\n",
        "implicit(lst1)\n",
        "explicit(lst2)"
      ],
      "metadata": {
        "colab": {
          "base_uri": "https://localhost:8080/"
        },
        "id": "_Yn3P_gpigBi",
        "outputId": "a95a955f-8755-44cd-c55c-409f9a9d4d7b"
      },
      "execution_count": 23,
      "outputs": [
        {
          "output_type": "stream",
          "name": "stdout",
          "text": [
            "16.8\n",
            "15\n"
          ]
        }
      ]
    },
    {
      "cell_type": "code",
      "source": [
        "#11.Write a program that checks if a number is positive, negative, or zero.\n",
        "num=int(input(\"Enter the number\"))\n",
        "if num==0:\n",
        "  print(\"It is zero\")\n",
        "elif num>0:\n",
        "  print(\"It is a positive number\")\n",
        "else:\n",
        "  print(\"It is a negative number\")"
      ],
      "metadata": {
        "colab": {
          "base_uri": "https://localhost:8080/"
        },
        "id": "F4RgbKdkikDn",
        "outputId": "fa29db20-d431-431d-ebfc-68c0a87af1fa"
      },
      "execution_count": 24,
      "outputs": [
        {
          "output_type": "stream",
          "name": "stdout",
          "text": [
            "Enter the number-200\n",
            "It is a negative number\n"
          ]
        }
      ]
    },
    {
      "cell_type": "code",
      "source": [
        "#12. . Write a for loop to print numbers from 1 to 10.\n",
        "for i in range(1,11):\n",
        "  print(i)"
      ],
      "metadata": {
        "colab": {
          "base_uri": "https://localhost:8080/"
        },
        "id": "cVfk7oJmiuvQ",
        "outputId": "ae8fe760-7730-4c49-a09d-bc739eaab559"
      },
      "execution_count": 25,
      "outputs": [
        {
          "output_type": "stream",
          "name": "stdout",
          "text": [
            "1\n",
            "2\n",
            "3\n",
            "4\n",
            "5\n",
            "6\n",
            "7\n",
            "8\n",
            "9\n",
            "10\n"
          ]
        }
      ]
    },
    {
      "cell_type": "code",
      "source": [
        "#13.  Write a Python program to find the sum of all even numbers between 1 and 50.\n",
        "sum=0\n",
        "for i in range(2,51,2):\n",
        "  sum+=i\n",
        "print(sum)"
      ],
      "metadata": {
        "colab": {
          "base_uri": "https://localhost:8080/"
        },
        "id": "jfyu0yxYi9qS",
        "outputId": "ed617496-cae3-460b-dbbd-2fad39310397"
      },
      "execution_count": 26,
      "outputs": [
        {
          "output_type": "stream",
          "name": "stdout",
          "text": [
            "650\n"
          ]
        }
      ]
    },
    {
      "cell_type": "code",
      "source": [
        "#14. Write a program to reverse a string using a while loop.\n",
        "string=input(\"Enter the string\")\n",
        "i=len(string)-1\n",
        "while i>=0:\n",
        "  print(string[i],end=\"\")\n",
        "  i-=1"
      ],
      "metadata": {
        "colab": {
          "base_uri": "https://localhost:8080/"
        },
        "id": "kyNxddtCjKOQ",
        "outputId": "5ef18eb3-a935-4ecb-d47a-9b826b351fac"
      },
      "execution_count": 29,
      "outputs": [
        {
          "output_type": "stream",
          "name": "stdout",
          "text": [
            "Enter the stringworld\n",
            "dlrow"
          ]
        }
      ]
    },
    {
      "cell_type": "code",
      "source": [
        "#15.Write a Python program to calculate the factorial of a number provided by the user using a while loop.\n",
        "num=int(input(\"Enter the nukber :\"))\n",
        "i=2\n",
        "fact=1\n",
        "while i<=num:\n",
        "  fact=fact*i\n",
        "  i+=1\n",
        "print(f\"factorial of {num} is {fact}\")"
      ],
      "metadata": {
        "colab": {
          "base_uri": "https://localhost:8080/"
        },
        "id": "z6lPXxZfjskT",
        "outputId": "d34e1e7a-ae68-48c8-d9cc-968c17b8691c"
      },
      "execution_count": 30,
      "outputs": [
        {
          "output_type": "stream",
          "name": "stdout",
          "text": [
            "Enter the nukber :6\n",
            "factorial of 6 is 720\n"
          ]
        }
      ]
    }
  ]
}